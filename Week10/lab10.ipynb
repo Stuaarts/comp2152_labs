{
 "cells": [
  {
   "cell_type": "code",
   "execution_count": null,
   "id": "abd40864-698e-4de8-8e50-ef5bf5185efb",
   "metadata": {},
   "outputs": [],
   "source": [
    "import sqlite3\n",
    "from contextlib import closing\n",
    "\n",
    "db_path = \"sqlite3.db\"\n",
    "\n",
    "try:\n",
    "    with closing(sqlite3.connect(db_path)) as db_conn:\n",
    "        db_conn.row_factory = sqlite3.Row\n",
    "        with closing(db_conn.cursor()) as cursor:\n",
    "            try:\n",
    "                query_1 = \"SELECT * from demo WHERE id > 14\"\n",
    "                cursor.execute(query_1)\n",
    "                rows = cursor.fetchall()\n",
    "                print(\"Name of rows with id > 14:\\n\")\n",
    "                for row in rows:\n",
    "                    print(row[\"name\"])\n",
    "            except Exception as e:\n",
    "                print(f\"Error executing query_1: {e}\")\n",
    "            # Delete Rows based on the user input\n",
    "            try:\n",
    "                del_row = int(input(\"Enter the row ID threshold for deletion:\"))\n",
    "                query_2 = \"DELETE FROM demo WHERE id < ?\"\n",
    "                cursor.execute(query_2, (del_row))\n",
    "                num_rows = cursor.rowcount\n",
    "                print(f\"{num_rows} rows affected.\")\n",
    "                db_conn.commit()\n",
    "            except Exception as e:\n",
    "                print(f\"Error executing query_1: {e}\")\n",
    "except sqlite3.Error as e:\n",
    "    print(f\"Database connection error: {e}\")"
   ]
  }
 ],
 "metadata": {
  "kernelspec": {
   "display_name": "Python 3 (ipykernel)",
   "language": "python",
   "name": "python3"
  },
  "language_info": {
   "codemirror_mode": {
    "name": "ipython",
    "version": 3
   },
   "file_extension": ".py",
   "mimetype": "text/x-python",
   "name": "python",
   "nbconvert_exporter": "python",
   "pygments_lexer": "ipython3",
   "version": "3.9.21"
  }
 },
 "nbformat": 4,
 "nbformat_minor": 5
}
